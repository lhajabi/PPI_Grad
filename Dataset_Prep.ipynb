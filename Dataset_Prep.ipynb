{
  "cells": [
    {
      "cell_type": "markdown",
      "metadata": {
        "id": "view-in-github",
        "colab_type": "text"
      },
      "source": [
        "<a href=\"https://colab.research.google.com/github/lhajabi/PPI_Grad/blob/main/Dataset_Prep.ipynb\" target=\"_parent\"><img src=\"https://colab.research.google.com/assets/colab-badge.svg\" alt=\"Open In Colab\"/></a>"
      ]
    },
    {
      "cell_type": "code",
      "source": [
        "\"\"\"ONLY RUNS IF GPU AVAILABLE \"\"\"\n",
        "import tensorflow as tf\n",
        "device_name = tf.test.gpu_device_name()\n",
        "if device_name != '/device:GPU:0':\n",
        "  raise SystemError('GPU device not found')\n",
        "print('Found GPU at: {}'.format(device_name))\n",
        "\n",
        "def gpu():\n",
        "  with tf.device('/device:GPU:0'):\n",
        "    random_image_gpu = tf.random.normal((100, 100, 100, 3))\n",
        "    net_gpu = tf.keras.layers.Conv2D(32, 7)(random_image_gpu)\n",
        "    return tf.math.reduce_sum(net_gpu)\n",
        "\n",
        "gpu()"
      ],
      "metadata": {
        "colab": {
          "base_uri": "https://localhost:8080/"
        },
        "id": "ZOszE-w7bblL",
        "outputId": "274e2521-4d89-46e8-b36a-a1d620a403ea"
      },
      "execution_count": null,
      "outputs": [
        {
          "output_type": "stream",
          "name": "stdout",
          "text": [
            "Found GPU at: /device:GPU:0\n"
          ]
        },
        {
          "output_type": "execute_result",
          "data": {
            "text/plain": [
              "<tf.Tensor: shape=(), dtype=float32, numpy=1350.4606>"
            ]
          },
          "metadata": {},
          "execution_count": 1
        }
      ]
    },
    {
      "cell_type": "markdown",
      "metadata": {
        "id": "rm-ik34fvtO1"
      },
      "source": [
        "Imports:"
      ]
    },
    {
      "cell_type": "code",
      "execution_count": null,
      "metadata": {
        "colab": {
          "base_uri": "https://localhost:8080/"
        },
        "id": "0emQbjSiJdSH",
        "outputId": "bc1f735b-f387-457e-ad74-9b30df3b52a4"
      },
      "outputs": [
        {
          "output_type": "stream",
          "name": "stdout",
          "text": [
            "Collecting biopython\n",
            "  Downloading biopython-1.82-cp310-cp310-manylinux_2_17_x86_64.manylinux2014_x86_64.whl (3.1 MB)\n",
            "\u001b[2K     \u001b[90m━━━━━━━━━━━━━━━━━━━━━━━━━━━━━━━━━━━━━━━━\u001b[0m \u001b[32m3.1/3.1 MB\u001b[0m \u001b[31m10.2 MB/s\u001b[0m eta \u001b[36m0:00:00\u001b[0m\n",
            "\u001b[?25hRequirement already satisfied: numpy in /usr/local/lib/python3.10/dist-packages (from biopython) (1.23.5)\n",
            "Installing collected packages: biopython\n",
            "Successfully installed biopython-1.82\n"
          ]
        }
      ],
      "source": [
        "!pip install biopython"
      ]
    },
    {
      "cell_type": "code",
      "execution_count": null,
      "metadata": {
        "id": "OOSiBrlx3-_t",
        "colab": {
          "base_uri": "https://localhost:8080/"
        },
        "outputId": "b8de6ab8-246b-446a-f925-665354a86553"
      },
      "outputs": [
        {
          "output_type": "stream",
          "name": "stdout",
          "text": [
            "Mounted at /content/drive\n"
          ]
        }
      ],
      "source": [
        "import requests\n",
        "import gzip\n",
        "import csv\n",
        "import io\n",
        "import sys\n",
        "import re\n",
        "import random\n",
        "import pandas as pd\n",
        "import tensorflow as tf\n",
        "import numpy as np\n",
        "from Bio import SeqIO\n",
        "from google.colab import drive\n",
        "drive.mount('/content/drive')"
      ]
    },
    {
      "cell_type": "markdown",
      "metadata": {
        "id": "jvs5QvbNvyFO"
      },
      "source": [
        "# Positive dataset construction"
      ]
    },
    {
      "cell_type": "markdown",
      "metadata": {
        "id": "bGe6t37FHrtO"
      },
      "source": [
        "upload data:"
      ]
    },
    {
      "cell_type": "code",
      "execution_count": null,
      "metadata": {
        "id": "20577HG3lH78"
      },
      "outputs": [],
      "source": [
        "df_Two_Proteins_score = pd.read_csv('/content/drive/MyDrive/Data/9606.protein.links.v12.0.txt', delimiter='\\t')\n",
        "df_Two_Proteins_score[['protein1', 'protein2', 'combined_score']] = df_Two_Proteins_score['protein1 protein2 combined_score'].str.split(expand=True)\n",
        "df_Two_Proteins_score.drop(columns=['protein1 protein2 combined_score'], inplace=True)\n",
        "\n",
        "fasta_file_path = '/content/drive/MyDrive/Data/9606.protein.sequences.v12.0.fa'\n",
        "sequences = []\n",
        "for record in SeqIO.parse(fasta_file_path, 'fasta'):\n",
        "    sequences.append({'Header': record.id, 'Sequence': str(record.seq)})\n",
        "df_sequences = pd.DataFrame(sequences)\n"
      ]
    },
    {
      "cell_type": "markdown",
      "metadata": {
        "id": "Ry0kcjdCo0_0"
      },
      "source": [
        "CD HIT:"
      ]
    },
    {
      "cell_type": "code",
      "execution_count": null,
      "metadata": {
        "id": "QOCxI-wZrDp8"
      },
      "outputs": [],
      "source": [
        "cd = pd.read_csv('/content/drive/MyDrive/Data/40_tr.txt', delimiter=',', header=None)\n",
        "cd.rename(columns={0: 'sequence'}, inplace=True)\n",
        "cd"
      ]
    },
    {
      "cell_type": "code",
      "source": [
        "#positive_df = pd.read_csv('/content/drive/MyDrive/Data/ONLY POSITIVE/ALL_POS(0.4).txt', delimiter=',')\n",
        "#positive_df = pd.read_csv('/content/drive/MyDrive/Data/ONLY POSITIVE/ALL_POS(0.7).txt', delimiter=',')\n",
        "#positive_df = pd.read_csv('/content/drive/MyDrive/Data/ONLY POSITIVE/ALL_POS_CD40(0.4).txt', delimiter=',')\n",
        "#positive_df = pd.read_csv('/content/drive/MyDrive/Data/ONLY POSITIVE/ALL_POS_CD40(0.7).txt', delimiter=',')\n",
        "#positive_df = pd.read_csv('/content/drive/MyDrive/Data/ONLY POSITIVE/ALL_POS_C060(0.4).txt', delimiter=',')\n",
        "#positive_df = pd.read_csv('/content/drive/MyDrive/Data/ONLY POSITIVE/ALL_POS_CD60(0.7).txt', delimiter=',')"
      ],
      "metadata": {
        "id": "MNWz1Yak7TMi"
      },
      "execution_count": null,
      "outputs": []
    },
    {
      "cell_type": "markdown",
      "metadata": {
        "id": "yg0tvtKbKCym"
      },
      "source": [
        "functions:"
      ]
    },
    {
      "cell_type": "code",
      "execution_count": null,
      "metadata": {
        "id": "qE9S6XqagibL"
      },
      "outputs": [],
      "source": [
        "def merge_and_transform_data(df_Two_Proteins_score, df_sequences):\n",
        "    merged_df = df_Two_Proteins_score.merge(df_sequences, left_on='protein1', right_on='Header', how='left')\n",
        "    merged_df = merged_df.merge(df_sequences, left_on='protein2', right_on='Header', how='left', suffixes=('_protein1', '_protein2'))\n",
        "    merged_df.drop(columns=['Header_protein1', 'Header_protein2', 'protein1', 'protein2'], inplace=True)\n",
        "    merged_df.rename(columns={'Sequence_protein1': 'protein1', 'Sequence_protein2': 'protein2'}, inplace=True)\n",
        "    desired_order = ['protein1', 'protein2', 'combined_score']\n",
        "    merged_df = merged_df[desired_order]\n",
        "    return merged_df\n",
        "\n",
        "def _scale_down_dataframe(input_df, combined_score, total_samples=1000, random_seed=42):\n",
        "    if combined_score == 1:\n",
        "        group_ones = input_df[input_df['combined_score'] == 1]\n",
        "        sample_ones = group_ones.sample(n=min(total_samples, len(group_ones)), random_state=random_seed)\n",
        "        return sample_ones\n",
        "    else:\n",
        "        group_zeros = input_df[input_df['combined_score'] == 0]\n",
        "        sample_zeros = group_zeros.sample(n=min(total_samples, len(group_zeros)), random_state=random_seed)\n",
        "        return sample_zeros\n",
        "\n",
        "def _filter_df(input_df, cd):\n",
        "    to_concat = []\n",
        "    for index, row in input_df.iterrows():\n",
        "        protein1 = row['protein1']\n",
        "        protein2 = row['protein2']\n",
        "        mask_protein1 = cd['sequence'] == protein1\n",
        "        mask_protein2 = cd['sequence'] == protein2\n",
        "        if mask_protein1.any() and mask_protein2.any():\n",
        "            to_concat.append(pd.DataFrame({'protein1': [protein1], 'protein2': [protein2]}))\n",
        "    if to_concat:\n",
        "        filtered_df = pd.concat(to_concat, ignore_index=True)\n",
        "    else:\n",
        "        filtered_df = pd.DataFrame(columns=['protein1', 'protein2'])\n",
        "    return filtered_df"
      ]
    },
    {
      "cell_type": "markdown",
      "metadata": {
        "id": "skiqEpV2J_Uy"
      },
      "source": [
        "Code:"
      ]
    },
    {
      "cell_type": "code",
      "execution_count": null,
      "metadata": {
        "id": "6Y9vanEWIEiw",
        "colab": {
          "base_uri": "https://localhost:8080/",
          "height": 424
        },
        "outputId": "4bfc5dc2-8374-4c1c-b88d-369e68fc0add"
      },
      "outputs": [
        {
          "output_type": "execute_result",
          "data": {
            "text/plain": [
              "                                                   protein1  \\\n",
              "0         MGLTVSALFSRIFGKKQMRILMVGLDAAGKTTILYKLKLGEIVTTI...   \n",
              "1         MGLTVSALFSRIFGKKQMRILMVGLDAAGKTTILYKLKLGEIVTTI...   \n",
              "2         MGLTVSALFSRIFGKKQMRILMVGLDAAGKTTILYKLKLGEIVTTI...   \n",
              "3         MGLTVSALFSRIFGKKQMRILMVGLDAAGKTTILYKLKLGEIVTTI...   \n",
              "4         MGLTVSALFSRIFGKKQMRILMVGLDAAGKTTILYKLKLGEIVTTI...   \n",
              "...                                                     ...   \n",
              "13715399  MAEEQQQPPPQQPDAHQQLPPSAPNSGVALPALVPGLPGTEASALQ...   \n",
              "13715400  MAEEQQQPPPQQPDAHQQLPPSAPNSGVALPALVPGLPGTEASALQ...   \n",
              "13715401  MAEEQQQPPPQQPDAHQQLPPSAPNSGVALPALVPGLPGTEASALQ...   \n",
              "13715402  MAEEQQQPPPQQPDAHQQLPPSAPNSGVALPALVPGLPGTEASALQ...   \n",
              "13715403  MAEEQQQPPPQQPDAHQQLPPSAPNSGVALPALVPGLPGTEASALQ...   \n",
              "\n",
              "                                                   protein2  combined_score  \n",
              "0         MDLMNGQASSVNIAATASEKSSSSESLSDKGSELKKSFDAVVFDVL...           0.173  \n",
              "1         MHVMNCVSLVSDKENGNIATAPGFMIGQTPPPAPPPPPPPPPPSPP...           0.154  \n",
              "2         MALSDADVQKQIKHMMAFIEQEANEKAEEIDAKAEEEFNIEKGRLV...           0.151  \n",
              "3         MEDGVYEPPDLTPEERMELENIRRRKQELLVEIQRLREELSEAMSE...           0.471  \n",
              "4         MEGRSAAAETFVWVNNASAHSQSVAKAKYEFLFGRSEGKAPDTSDH...           0.201  \n",
              "...                                                     ...             ...  \n",
              "13715399  MEEFDLVKTLHKTSSSVGSDENSLHSLGLNLNTDRSSPHLSTNGVS...           0.195  \n",
              "13715400  MSPKPRASGPPAKATEAGKRKSSSQPSPSDPKKKTTKVAKKGKAVR...           0.158  \n",
              "13715401  MVKMTRSKTFQAYLPSCHRTYSCIHCRAHLANHDELISKSFQGSQG...           0.226  \n",
              "13715402  MRSSKLQSPSPSQEKQGVYLQETAMETWSVEQVCSWLVEKNLGELV...           0.169  \n",
              "13715403  MNTNSKEVLSLGVQVPEAWEELLTMKVEAKSHLQWQESRLKRSNPL...           0.251  \n",
              "\n",
              "[13715404 rows x 3 columns]"
            ],
            "text/html": [
              "\n",
              "  <div id=\"df-5aa064a5-ec40-41fa-8fbe-b3d61655f1b2\" class=\"colab-df-container\">\n",
              "    <div>\n",
              "<style scoped>\n",
              "    .dataframe tbody tr th:only-of-type {\n",
              "        vertical-align: middle;\n",
              "    }\n",
              "\n",
              "    .dataframe tbody tr th {\n",
              "        vertical-align: top;\n",
              "    }\n",
              "\n",
              "    .dataframe thead th {\n",
              "        text-align: right;\n",
              "    }\n",
              "</style>\n",
              "<table border=\"1\" class=\"dataframe\">\n",
              "  <thead>\n",
              "    <tr style=\"text-align: right;\">\n",
              "      <th></th>\n",
              "      <th>protein1</th>\n",
              "      <th>protein2</th>\n",
              "      <th>combined_score</th>\n",
              "    </tr>\n",
              "  </thead>\n",
              "  <tbody>\n",
              "    <tr>\n",
              "      <th>0</th>\n",
              "      <td>MGLTVSALFSRIFGKKQMRILMVGLDAAGKTTILYKLKLGEIVTTI...</td>\n",
              "      <td>MDLMNGQASSVNIAATASEKSSSSESLSDKGSELKKSFDAVVFDVL...</td>\n",
              "      <td>0.173</td>\n",
              "    </tr>\n",
              "    <tr>\n",
              "      <th>1</th>\n",
              "      <td>MGLTVSALFSRIFGKKQMRILMVGLDAAGKTTILYKLKLGEIVTTI...</td>\n",
              "      <td>MHVMNCVSLVSDKENGNIATAPGFMIGQTPPPAPPPPPPPPPPSPP...</td>\n",
              "      <td>0.154</td>\n",
              "    </tr>\n",
              "    <tr>\n",
              "      <th>2</th>\n",
              "      <td>MGLTVSALFSRIFGKKQMRILMVGLDAAGKTTILYKLKLGEIVTTI...</td>\n",
              "      <td>MALSDADVQKQIKHMMAFIEQEANEKAEEIDAKAEEEFNIEKGRLV...</td>\n",
              "      <td>0.151</td>\n",
              "    </tr>\n",
              "    <tr>\n",
              "      <th>3</th>\n",
              "      <td>MGLTVSALFSRIFGKKQMRILMVGLDAAGKTTILYKLKLGEIVTTI...</td>\n",
              "      <td>MEDGVYEPPDLTPEERMELENIRRRKQELLVEIQRLREELSEAMSE...</td>\n",
              "      <td>0.471</td>\n",
              "    </tr>\n",
              "    <tr>\n",
              "      <th>4</th>\n",
              "      <td>MGLTVSALFSRIFGKKQMRILMVGLDAAGKTTILYKLKLGEIVTTI...</td>\n",
              "      <td>MEGRSAAAETFVWVNNASAHSQSVAKAKYEFLFGRSEGKAPDTSDH...</td>\n",
              "      <td>0.201</td>\n",
              "    </tr>\n",
              "    <tr>\n",
              "      <th>...</th>\n",
              "      <td>...</td>\n",
              "      <td>...</td>\n",
              "      <td>...</td>\n",
              "    </tr>\n",
              "    <tr>\n",
              "      <th>13715399</th>\n",
              "      <td>MAEEQQQPPPQQPDAHQQLPPSAPNSGVALPALVPGLPGTEASALQ...</td>\n",
              "      <td>MEEFDLVKTLHKTSSSVGSDENSLHSLGLNLNTDRSSPHLSTNGVS...</td>\n",
              "      <td>0.195</td>\n",
              "    </tr>\n",
              "    <tr>\n",
              "      <th>13715400</th>\n",
              "      <td>MAEEQQQPPPQQPDAHQQLPPSAPNSGVALPALVPGLPGTEASALQ...</td>\n",
              "      <td>MSPKPRASGPPAKATEAGKRKSSSQPSPSDPKKKTTKVAKKGKAVR...</td>\n",
              "      <td>0.158</td>\n",
              "    </tr>\n",
              "    <tr>\n",
              "      <th>13715401</th>\n",
              "      <td>MAEEQQQPPPQQPDAHQQLPPSAPNSGVALPALVPGLPGTEASALQ...</td>\n",
              "      <td>MVKMTRSKTFQAYLPSCHRTYSCIHCRAHLANHDELISKSFQGSQG...</td>\n",
              "      <td>0.226</td>\n",
              "    </tr>\n",
              "    <tr>\n",
              "      <th>13715402</th>\n",
              "      <td>MAEEQQQPPPQQPDAHQQLPPSAPNSGVALPALVPGLPGTEASALQ...</td>\n",
              "      <td>MRSSKLQSPSPSQEKQGVYLQETAMETWSVEQVCSWLVEKNLGELV...</td>\n",
              "      <td>0.169</td>\n",
              "    </tr>\n",
              "    <tr>\n",
              "      <th>13715403</th>\n",
              "      <td>MAEEQQQPPPQQPDAHQQLPPSAPNSGVALPALVPGLPGTEASALQ...</td>\n",
              "      <td>MNTNSKEVLSLGVQVPEAWEELLTMKVEAKSHLQWQESRLKRSNPL...</td>\n",
              "      <td>0.251</td>\n",
              "    </tr>\n",
              "  </tbody>\n",
              "</table>\n",
              "<p>13715404 rows × 3 columns</p>\n",
              "</div>\n",
              "    <div class=\"colab-df-buttons\">\n",
              "\n",
              "  <div class=\"colab-df-container\">\n",
              "    <button class=\"colab-df-convert\" onclick=\"convertToInteractive('df-5aa064a5-ec40-41fa-8fbe-b3d61655f1b2')\"\n",
              "            title=\"Convert this dataframe to an interactive table.\"\n",
              "            style=\"display:none;\">\n",
              "\n",
              "  <svg xmlns=\"http://www.w3.org/2000/svg\" height=\"24px\" viewBox=\"0 -960 960 960\">\n",
              "    <path d=\"M120-120v-720h720v720H120Zm60-500h600v-160H180v160Zm220 220h160v-160H400v160Zm0 220h160v-160H400v160ZM180-400h160v-160H180v160Zm440 0h160v-160H620v160ZM180-180h160v-160H180v160Zm440 0h160v-160H620v160Z\"/>\n",
              "  </svg>\n",
              "    </button>\n",
              "\n",
              "  <style>\n",
              "    .colab-df-container {\n",
              "      display:flex;\n",
              "      gap: 12px;\n",
              "    }\n",
              "\n",
              "    .colab-df-convert {\n",
              "      background-color: #E8F0FE;\n",
              "      border: none;\n",
              "      border-radius: 50%;\n",
              "      cursor: pointer;\n",
              "      display: none;\n",
              "      fill: #1967D2;\n",
              "      height: 32px;\n",
              "      padding: 0 0 0 0;\n",
              "      width: 32px;\n",
              "    }\n",
              "\n",
              "    .colab-df-convert:hover {\n",
              "      background-color: #E2EBFA;\n",
              "      box-shadow: 0px 1px 2px rgba(60, 64, 67, 0.3), 0px 1px 3px 1px rgba(60, 64, 67, 0.15);\n",
              "      fill: #174EA6;\n",
              "    }\n",
              "\n",
              "    .colab-df-buttons div {\n",
              "      margin-bottom: 4px;\n",
              "    }\n",
              "\n",
              "    [theme=dark] .colab-df-convert {\n",
              "      background-color: #3B4455;\n",
              "      fill: #D2E3FC;\n",
              "    }\n",
              "\n",
              "    [theme=dark] .colab-df-convert:hover {\n",
              "      background-color: #434B5C;\n",
              "      box-shadow: 0px 1px 3px 1px rgba(0, 0, 0, 0.15);\n",
              "      filter: drop-shadow(0px 1px 2px rgba(0, 0, 0, 0.3));\n",
              "      fill: #FFFFFF;\n",
              "    }\n",
              "  </style>\n",
              "\n",
              "    <script>\n",
              "      const buttonEl =\n",
              "        document.querySelector('#df-5aa064a5-ec40-41fa-8fbe-b3d61655f1b2 button.colab-df-convert');\n",
              "      buttonEl.style.display =\n",
              "        google.colab.kernel.accessAllowed ? 'block' : 'none';\n",
              "\n",
              "      async function convertToInteractive(key) {\n",
              "        const element = document.querySelector('#df-5aa064a5-ec40-41fa-8fbe-b3d61655f1b2');\n",
              "        const dataTable =\n",
              "          await google.colab.kernel.invokeFunction('convertToInteractive',\n",
              "                                                    [key], {});\n",
              "        if (!dataTable) return;\n",
              "\n",
              "        const docLinkHtml = 'Like what you see? Visit the ' +\n",
              "          '<a target=\"_blank\" href=https://colab.research.google.com/notebooks/data_table.ipynb>data table notebook</a>'\n",
              "          + ' to learn more about interactive tables.';\n",
              "        element.innerHTML = '';\n",
              "        dataTable['output_type'] = 'display_data';\n",
              "        await google.colab.output.renderOutput(dataTable, element);\n",
              "        const docLink = document.createElement('div');\n",
              "        docLink.innerHTML = docLinkHtml;\n",
              "        element.appendChild(docLink);\n",
              "      }\n",
              "    </script>\n",
              "  </div>\n",
              "\n",
              "\n",
              "<div id=\"df-e812fc83-a09a-481c-99df-283cb4250a57\">\n",
              "  <button class=\"colab-df-quickchart\" onclick=\"quickchart('df-e812fc83-a09a-481c-99df-283cb4250a57')\"\n",
              "            title=\"Suggest charts\"\n",
              "            style=\"display:none;\">\n",
              "\n",
              "<svg xmlns=\"http://www.w3.org/2000/svg\" height=\"24px\"viewBox=\"0 0 24 24\"\n",
              "     width=\"24px\">\n",
              "    <g>\n",
              "        <path d=\"M19 3H5c-1.1 0-2 .9-2 2v14c0 1.1.9 2 2 2h14c1.1 0 2-.9 2-2V5c0-1.1-.9-2-2-2zM9 17H7v-7h2v7zm4 0h-2V7h2v10zm4 0h-2v-4h2v4z\"/>\n",
              "    </g>\n",
              "</svg>\n",
              "  </button>\n",
              "\n",
              "<style>\n",
              "  .colab-df-quickchart {\n",
              "      --bg-color: #E8F0FE;\n",
              "      --fill-color: #1967D2;\n",
              "      --hover-bg-color: #E2EBFA;\n",
              "      --hover-fill-color: #174EA6;\n",
              "      --disabled-fill-color: #AAA;\n",
              "      --disabled-bg-color: #DDD;\n",
              "  }\n",
              "\n",
              "  [theme=dark] .colab-df-quickchart {\n",
              "      --bg-color: #3B4455;\n",
              "      --fill-color: #D2E3FC;\n",
              "      --hover-bg-color: #434B5C;\n",
              "      --hover-fill-color: #FFFFFF;\n",
              "      --disabled-bg-color: #3B4455;\n",
              "      --disabled-fill-color: #666;\n",
              "  }\n",
              "\n",
              "  .colab-df-quickchart {\n",
              "    background-color: var(--bg-color);\n",
              "    border: none;\n",
              "    border-radius: 50%;\n",
              "    cursor: pointer;\n",
              "    display: none;\n",
              "    fill: var(--fill-color);\n",
              "    height: 32px;\n",
              "    padding: 0;\n",
              "    width: 32px;\n",
              "  }\n",
              "\n",
              "  .colab-df-quickchart:hover {\n",
              "    background-color: var(--hover-bg-color);\n",
              "    box-shadow: 0 1px 2px rgba(60, 64, 67, 0.3), 0 1px 3px 1px rgba(60, 64, 67, 0.15);\n",
              "    fill: var(--button-hover-fill-color);\n",
              "  }\n",
              "\n",
              "  .colab-df-quickchart-complete:disabled,\n",
              "  .colab-df-quickchart-complete:disabled:hover {\n",
              "    background-color: var(--disabled-bg-color);\n",
              "    fill: var(--disabled-fill-color);\n",
              "    box-shadow: none;\n",
              "  }\n",
              "\n",
              "  .colab-df-spinner {\n",
              "    border: 2px solid var(--fill-color);\n",
              "    border-color: transparent;\n",
              "    border-bottom-color: var(--fill-color);\n",
              "    animation:\n",
              "      spin 1s steps(1) infinite;\n",
              "  }\n",
              "\n",
              "  @keyframes spin {\n",
              "    0% {\n",
              "      border-color: transparent;\n",
              "      border-bottom-color: var(--fill-color);\n",
              "      border-left-color: var(--fill-color);\n",
              "    }\n",
              "    20% {\n",
              "      border-color: transparent;\n",
              "      border-left-color: var(--fill-color);\n",
              "      border-top-color: var(--fill-color);\n",
              "    }\n",
              "    30% {\n",
              "      border-color: transparent;\n",
              "      border-left-color: var(--fill-color);\n",
              "      border-top-color: var(--fill-color);\n",
              "      border-right-color: var(--fill-color);\n",
              "    }\n",
              "    40% {\n",
              "      border-color: transparent;\n",
              "      border-right-color: var(--fill-color);\n",
              "      border-top-color: var(--fill-color);\n",
              "    }\n",
              "    60% {\n",
              "      border-color: transparent;\n",
              "      border-right-color: var(--fill-color);\n",
              "    }\n",
              "    80% {\n",
              "      border-color: transparent;\n",
              "      border-right-color: var(--fill-color);\n",
              "      border-bottom-color: var(--fill-color);\n",
              "    }\n",
              "    90% {\n",
              "      border-color: transparent;\n",
              "      border-bottom-color: var(--fill-color);\n",
              "    }\n",
              "  }\n",
              "</style>\n",
              "\n",
              "  <script>\n",
              "    async function quickchart(key) {\n",
              "      const quickchartButtonEl =\n",
              "        document.querySelector('#' + key + ' button');\n",
              "      quickchartButtonEl.disabled = true;  // To prevent multiple clicks.\n",
              "      quickchartButtonEl.classList.add('colab-df-spinner');\n",
              "      try {\n",
              "        const charts = await google.colab.kernel.invokeFunction(\n",
              "            'suggestCharts', [key], {});\n",
              "      } catch (error) {\n",
              "        console.error('Error during call to suggestCharts:', error);\n",
              "      }\n",
              "      quickchartButtonEl.classList.remove('colab-df-spinner');\n",
              "      quickchartButtonEl.classList.add('colab-df-quickchart-complete');\n",
              "    }\n",
              "    (() => {\n",
              "      let quickchartButtonEl =\n",
              "        document.querySelector('#df-e812fc83-a09a-481c-99df-283cb4250a57 button');\n",
              "      quickchartButtonEl.style.display =\n",
              "        google.colab.kernel.accessAllowed ? 'block' : 'none';\n",
              "    })();\n",
              "  </script>\n",
              "</div>\n",
              "    </div>\n",
              "  </div>\n"
            ]
          },
          "metadata": {},
          "execution_count": 5
        }
      ],
      "source": [
        "all_positive_df = merge_and_transform_data(df_Two_Proteins_score, df_sequences)\n",
        "all_positive_df['combined_score'] = pd.to_numeric(all_positive_df['combined_score'], errors='coerce')\n",
        "all_positive_df['combined_score'] = all_positive_df['combined_score'].div(1000, fill_value=0)\n",
        "all_positive_df"
      ]
    },
    {
      "cell_type": "code",
      "source": [
        "import os\n",
        "drive_path = '/content/drive/MyDrive/Data'\n",
        "\n",
        "if not os.path.exists(drive_path):\n",
        "    os.makedirs(drive_path)\n",
        "\n",
        "os.chdir(drive_path)\n",
        "all_positive_df.to_csv('TEMP_ALLPOS_fractions.txt', index=False) #save your df to txt file"
      ],
      "metadata": {
        "id": "LuwGy0fco8PN"
      },
      "execution_count": null,
      "outputs": []
    },
    {
      "cell_type": "code",
      "source": [
        "#all_positive_df['combined_score'] = np.where(all_positive_df['combined_score'] >= 0.400, 1, 0)### 0.4 or 0.7\n",
        "print(all_positive_df['combined_score'].value_counts())"
      ],
      "metadata": {
        "id": "kqRxvGg40Jku"
      },
      "execution_count": null,
      "outputs": []
    },
    {
      "cell_type": "code",
      "source": [
        "positive_df = all_positive_df[all_positive_df['combined_score'] == 1]\n",
        "positive_df"
      ],
      "metadata": {
        "id": "I_kQ3_dWoyd3"
      },
      "execution_count": null,
      "outputs": []
    },
    {
      "cell_type": "code",
      "source": [
        "positive_df = _filter_df(all_positive_df, cd)\n",
        "positive_df"
      ],
      "metadata": {
        "id": "_jplKZ4iinnP"
      },
      "execution_count": null,
      "outputs": []
    },
    {
      "cell_type": "markdown",
      "metadata": {
        "id": "GqGLLnL4jnuE"
      },
      "source": [
        "# Negative dataset construction"
      ]
    },
    {
      "cell_type": "markdown",
      "metadata": {
        "id": "Lav9nq0wnwQw"
      },
      "source": [
        "Functions"
      ]
    },
    {
      "cell_type": "code",
      "execution_count": null,
      "metadata": {
        "id": "tukXFCt5oAJt"
      },
      "outputs": [],
      "source": [
        "#returns a csv_reader object from an api\n",
        "#or if an error occurs prints the error message and exits\n",
        "def gzip_tsv_api(url):\n",
        "  response = requests.get(url)\n",
        "\n",
        "  if response.status_code == 200:\n",
        "      gzip_content = io.BytesIO(response.content)\n",
        "\n",
        "      with gzip.GzipFile(fileobj=gzip_content, mode='rb') as gzipped_file:\n",
        "          tsv_content = gzipped_file.read().decode('utf-8')\n",
        "          reader = csv.reader(tsv_content.splitlines(), delimiter='\\t')\n",
        "          return reader\n",
        "  else:\n",
        "      print(f\"Failed to retrieve data. Status code: {response.status_code}\")\n",
        "      sys.exit(1)"
      ]
    },
    {
      "cell_type": "code",
      "execution_count": null,
      "metadata": {
        "id": "uCn_HV2bZqu4"
      },
      "outputs": [],
      "source": [
        "#Get the columns in a csv file #print the columns to know the entries in each column\n",
        "def _csv_columns(reader):\n",
        "  columns = [list(column) for column in zip(*reader)]\n",
        "  return columns"
      ]
    },
    {
      "cell_type": "code",
      "execution_count": null,
      "metadata": {
        "id": "_HCIxxGEJwlz"
      },
      "outputs": [],
      "source": [
        "#returns a csv_reader object from file name\n",
        "def _tsv_file(file):\n",
        " return pd.read_csv(file, sep='\\t')\n"
      ]
    },
    {
      "cell_type": "code",
      "execution_count": null,
      "metadata": {
        "id": "fq78_3Z-gynV"
      },
      "outputs": [],
      "source": [
        "#print the first items in a dictionary\n",
        "def _preview_dict(dict, number=5):\n",
        "  count = 0\n",
        "  for key, value in seq_loc.items():\n",
        "      print(f'{key}: {value}')\n",
        "      count += 1\n",
        "      if count == number:\n",
        "          break"
      ]
    },
    {
      "cell_type": "code",
      "execution_count": null,
      "metadata": {
        "id": "Gsl4oMF2reZG"
      },
      "outputs": [],
      "source": [
        "#these functions just format the subcellular location\n",
        "#i think there's a way to avoid all this\n",
        "#will look into it if time permits\n",
        "def _format_subcellular_location_0(location):\n",
        "  location = re.sub(r'{[^}]*}', '', location)\n",
        "  note_index = location.find(\"Note\")\n",
        "    # If \"Note\" is found, remove everything from it onwards\n",
        "  if note_index != -1:\n",
        "      location = location[:note_index]\n",
        "  return location\n",
        "def _format_subcellular_location_1(subcellular_location):\n",
        "  for i in range(len(subcellular_location)):\n",
        "    subcellular_location[i] = _format_subcellular_location_0(subcellular_location[i])\n",
        "    subcellular_location[i] = re.sub(r'SUBCELLULAR LOCATION: ', '', subcellular_location[i])\n",
        "    subcellular_location[i]= subcellular_location[i].split('.')\n",
        "    subcellular_location[i]= subcellular_location[i][:-1]\n",
        "\n",
        "def _format_subcellular_location(subcellular_location):\n",
        "  _format_subcellular_location_1(subcellular_location)\n",
        "  for i in range(len(subcellular_location)):\n",
        "    for y in range(len(subcellular_location[i])):\n",
        "      subcellular_location[i][y] = subcellular_location[i][y].strip()"
      ]
    },
    {
      "cell_type": "code",
      "execution_count": null,
      "metadata": {
        "id": "WCY2VnJn1gv9"
      },
      "outputs": [],
      "source": [
        "# Create a dictionary where seq_loc[sequence] = [subcellular_location]\n",
        "def create_seq_loc(sequence,subcellular_location):\n",
        "  seq_loc= {}\n",
        "  for i in range(len(sequence)):\n",
        "      key = sequence[i]\n",
        "      [value] = [subcellular_location[i]]\n",
        "      seq_loc[key] = value\n",
        "  return seq_loc"
      ]
    },
    {
      "cell_type": "code",
      "execution_count": null,
      "metadata": {
        "id": "8xJS_-Ag8fQ0"
      },
      "outputs": [],
      "source": [
        "#each sequence can have a max number of interactions it takes part in #num_seq_interactions is a dictionary where (key = sequence , value = #interactions its in)\n",
        "def _check_interaction_limit(seq1,seq2,max_num_interactions,num_seq_interactions):\n",
        "  try:\n",
        "    if num_seq_interactions[seq1] >= max_num_interactions:\n",
        "      return 0\n",
        "  except:\n",
        "    num_seq_interactions[seq1] = 0\n",
        "  try:\n",
        "    if num_seq_interactions[seq2] >= max_num_interactions:\n",
        "      return 0\n",
        "  except:\n",
        "    num_seq_interactions[seq2] = 0\n",
        "  num_seq_interactions[seq1]+=1\n",
        "  num_seq_interactions[seq2]+=1\n",
        "  return 1"
      ]
    },
    {
      "cell_type": "code",
      "execution_count": null,
      "metadata": {
        "id": "apOn3L4aiiwp"
      },
      "outputs": [],
      "source": [
        "#count the frequency of each subcellular location #output is {subcellular location1: it's frequency percentage, ..., subcellular location N: it's frequency percentage}\n",
        "def create_loc_freq(seq_loc):\n",
        "    loc_freq = {}\n",
        "    total_locations = 0\n",
        "    for key, values in seq_loc.items():\n",
        "        for value in values:\n",
        "            loc_freq[value] = loc_freq.get(value, 0) + 1\n",
        "    for values in loc_freq.values():\n",
        "      total_locations += values\n",
        "    for key, value in loc_freq.items():\n",
        "      loc_freq[key] = value/total_locations\n",
        "    return loc_freq"
      ]
    },
    {
      "cell_type": "code",
      "execution_count": null,
      "metadata": {
        "id": "3KXT6_dU_EyW"
      },
      "outputs": [],
      "source": [
        "#recieves two sequences and checks if they have similar subcellular location #function returns 1 if the locations are different\n",
        "def _check_loc_diff(seq1,seq2,seq_loc):\n",
        "  for location1 in seq_loc[seq1]:\n",
        "    for location2 in seq_loc[seq2]:\n",
        "      if location1 == location2:\n",
        "        return 0\n",
        "  return 1"
      ]
    },
    {
      "cell_type": "code",
      "execution_count": null,
      "metadata": {
        "id": "aVYe_DV9Byz4"
      },
      "outputs": [],
      "source": [
        "#this function removes duplicate tuples from a list of tuples, regardless of order #has high memory usage\n",
        "def _remove_duplicate_tuples_1(lst):\n",
        "  seen = set()\n",
        "  result = []\n",
        "  for pair in lst:\n",
        "      # Convert the tuple to a frozenset, which is hashable\n",
        "      frozen_pair = frozenset(pair)\n",
        "      if frozen_pair not in seen:\n",
        "          result.append(pair)\n",
        "          seen.add(frozen_pair)\n",
        "  return result"
      ]
    },
    {
      "cell_type": "code",
      "execution_count": null,
      "metadata": {
        "id": "bXq3NNSFQ9Cr"
      },
      "outputs": [],
      "source": [
        "#this function removes duplicate tuples from a list of tuples, regardless of order #has high time usage because of sort function\n",
        "def  _remove_duplicate_tuples_2(lst):\n",
        "    seen = set()\n",
        "    result = []\n",
        "\n",
        "    for pair in lst:\n",
        "        # Sort the tuple so that order doesn't matter\n",
        "        sorted_pair = tuple(sorted(pair))\n",
        "        if sorted_pair not in seen:\n",
        "            result.append(pair)\n",
        "            seen.add(sorted_pair)\n",
        "\n",
        "    return result"
      ]
    },
    {
      "cell_type": "code",
      "execution_count": null,
      "metadata": {
        "id": "ftYF5y-Y8QBR"
      },
      "outputs": [],
      "source": [
        "#This function returns random samples created according to the percentages of each subcellular_location\n",
        "#for example locations that have a higher percentage will be in more interactions\n",
        "# samples = [(seq1, location1), ... ]\n",
        "def create_samples(seq_loc, loc_freq, num_samples, loop_count=3):\n",
        "  instances = []\n",
        "  weights = []\n",
        "  for seq, locations in seq_loc.items():\n",
        "    for location in locations:\n",
        "      instances.append((seq, location))\n",
        "      weights.append(loc_freq[location])\n",
        "\n",
        "  samples = random.choices(instances, weights = weights, k = num_samples)\n",
        "  samples = list(set(samples))\n",
        "  #can add something like this, make sure loop isnt infinite\n",
        "  for i in range(loop_count):\n",
        "    if len(samples) < num_samples: #if number of unique instances is less than required num_samples\n",
        "      new_samples = random.choices(instances, weights = weights, k = num_samples - len(samples))\n",
        "      new_samples = list(set(new_samples))\n",
        "      samples.extend(new_samples)\n",
        "  return samples"
      ]
    },
    {
      "cell_type": "code",
      "execution_count": null,
      "metadata": {
        "id": "hrHreh_u9ULe"
      },
      "outputs": [],
      "source": [
        "#returns a list of unique negative sample tuples\n",
        "#each tuple is (sequence1, sequence2)\n",
        "#where sequence1 and sequence2 have different subcellular locations\n",
        "#negative_samples = [(sequence1, sequence2), ...]\n",
        "def create_negative_samples(samples, max_num_interactions, seq_loc):\n",
        "  num_seq_interactions = {} #num_seq_interactions[seq] = number of interactions\n",
        "  negative_samples = []\n",
        "  for i in range(len(samples)):\n",
        "    for j in range(i + 1, len(samples)):\n",
        "      if _check_interaction_limit(samples[i][0],samples[j][0], max_num_interactions,num_seq_interactions):\n",
        "        #samples[i][0] is seq1\n",
        "        #samples[i][1] is loc1\n",
        "        if _check_loc_diff(samples[i][0], samples[j][0], seq_loc):\n",
        "          negative_samples.append((samples[i][0], samples[j][0]))\n",
        "  negative_samples = _remove_duplicate_tuples_1(negative_samples)\n",
        "  return negative_samples"
      ]
    },
    {
      "cell_type": "code",
      "execution_count": null,
      "metadata": {
        "id": "p1P3TB30dmfX"
      },
      "outputs": [],
      "source": [
        "#inputs are:\n",
        "#a link to a txt file of specific sequences\n",
        "#seq_loc dictionary containing both representative and non representative sequences\n",
        "#function will update seq_loc dictionary to contain sequences contained in tr_file only\n",
        "def tr_seq_loc(link, seq_loc):\n",
        "  response = requests.get(link)\n",
        "  if response.status_code == 200:\n",
        "      file_content = response.text\n",
        "  else:\n",
        "      print(\"Failed to retrieve the file. Status code:\", response.status_code)\n",
        "  file_content = file_content.splitlines()\n",
        "  tr = []\n",
        "  for line in file_content:\n",
        "      tr.append(line)\n",
        "  tr_loc ={}\n",
        "  for seq, loc in seq_loc.items():\n",
        "    if seq in tr:\n",
        "      tr_loc[seq] = loc\n",
        "  seq_loc = tr_loc\n",
        "  return seq_loc"
      ]
    },
    {
      "cell_type": "markdown",
      "metadata": {
        "id": "2VfR02GZntng"
      },
      "source": [
        "Code"
      ]
    },
    {
      "cell_type": "code",
      "execution_count": null,
      "metadata": {
        "id": "AcffFQG5o2b_"
      },
      "outputs": [],
      "source": [
        "url = 'https://rest.uniprot.org/uniprotkb/stream?compressed=true&fields=accession%2Clength%2Csequence%2Ccc_subcellular_location%2Ccc_similarity&format=tsv&query=accession%3AP0DOY5+OR+accession%3AP0DPI4+OR+accession%3AP0DPR3+OR+accession%3AQ712N7+OR+accession%3AQ8IVG9&sort=length+asc'\n",
        "url = 'https://rest.uniprot.org/uniprotkb/stream?compressed=true&fields=accession%2Clength%2Csequence%2Ccc_subcellular_location&format=tsv&query=%28human%29+AND+%28model_organism%3A9606%29+AND+%28proteins_with%3A50%29&sort=length+asc'\n",
        "reader = gzip_tsv_api(url)\n",
        "#Define any needed columns from file or url here\n",
        "#Check print(columns) to know column order in reader\n",
        "columns = _csv_columns(reader)\n",
        "length = columns[1][1:] #length not needed?\n",
        "sequence = columns[2][1:]\n",
        "#add a function to chanage sequence list by removing similar sequences\n",
        "subcellular_location = columns[3][1:]\n",
        "_format_subcellular_location(subcellular_location)\n",
        "seq_loc = create_seq_loc(sequence,subcellular_location)"
      ]
    },
    {
      "cell_type": "code",
      "execution_count": null,
      "metadata": {
        "id": "2kvzgZSEdro_"
      },
      "outputs": [],
      "source": [
        "print(\"length before: \", len(seq_loc))\n",
        "link = 'https://raw.githubusercontent.com/PPI-Proj/PPI_files/main/40_tr.txt'\n",
        "seq_loc = tr_seq_loc(link, seq_loc) #representative sequenes only CD\n",
        "print(\"length after: \" , len(seq_loc))"
      ]
    },
    {
      "cell_type": "code",
      "execution_count": null,
      "metadata": {
        "id": "x4WweyNyHj64"
      },
      "outputs": [],
      "source": [
        "num_samples = 500000 #number of samples that random.choice will make\n",
        "max_num_interactions = 10 #maximum number of interactions per protein sequence, in future turn into percentage\n",
        "loop_count =  5 #after removing duplicates from samples, recall random.choice\n",
        "loc_freq = create_loc_freq(seq_loc)\n",
        "samples = create_samples(seq_loc, loc_freq, num_samples, loop_count)\n",
        "negative_samples = create_negative_samples(samples, max_num_interactions, seq_loc)\n",
        "negative_df = pd.DataFrame(negative_samples, columns=['protein1', 'protein2'])\n",
        "negative_df['combined_score'] = 0\n",
        "#negative_df.info()"
      ]
    },
    {
      "cell_type": "code",
      "execution_count": null,
      "metadata": {
        "id": "I_P42JzPj0Q3"
      },
      "outputs": [],
      "source": [
        "#negative_df = pd.read_csv('/content/drive/MyDrive/Data/ONLY NEGATIVE/ALL_NEG_CD.txt', delimiter=',')\n",
        "negative_df.info()"
      ]
    },
    {
      "cell_type": "code",
      "source": [
        "#Drop duplicates from negative_df if exist in string\n",
        "all_positive_df['sorted_pair'] = all_positive_df[['protein1', 'protein2']].apply(lambda x: tuple(sorted(x)), axis=1)\n",
        "negative_df['sorted_pair'] = negative_df[['protein1', 'protein2']].apply(lambda x: tuple(sorted(x)), axis=1)\n",
        "common_rows = pd.merge(all_positive_df['sorted_pair'], negative_df['sorted_pair'], how='inner')\n",
        "negative_df = negative_df[~negative_df['sorted_pair'].isin(common_rows['sorted_pair'])]\n",
        "\n",
        "all_positive_df = all_positive_df.drop(columns='sorted_pair')\n",
        "negative_df = negative_df.drop(columns='sorted_pair')\n",
        "\n",
        "negative_df.info()"
      ],
      "metadata": {
        "id": "Mi_oJvy00ex4"
      },
      "execution_count": null,
      "outputs": []
    },
    {
      "cell_type": "markdown",
      "metadata": {
        "id": "QpilyJz38XsQ"
      },
      "source": [
        "# Merged Dataset:"
      ]
    },
    {
      "cell_type": "code",
      "execution_count": null,
      "metadata": {
        "id": "zaMa-e6e8bgs"
      },
      "outputs": [],
      "source": [
        "final_df = pd.concat([positive_df, negative_df])\n",
        "\n",
        "final_df = final_df.reset_index(drop=True)\n",
        "print(final_df['combined_score'].value_counts())\n",
        "final_df.info()"
      ]
    },
    {
      "cell_type": "markdown",
      "metadata": {
        "id": "HltyxIwLCEnD"
      },
      "source": [
        "Save Final Dataset:"
      ]
    },
    {
      "cell_type": "code",
      "execution_count": null,
      "metadata": {
        "id": "_pa7BPoOCJ8Y"
      },
      "outputs": [],
      "source": [
        "import os\n",
        "drive_path = '/content/drive/MyDrive/Data'\n",
        "# Create the directory if it doesn't exist\n",
        "if not os.path.exists(drive_path):\n",
        "    os.makedirs(drive_path)\n",
        "\n",
        "# Change the current working directory to your Google Drive directory\n",
        "os.chdir(drive_path)\n",
        "#final_df.to_csv('sampleName.txt', index=False)\n",
        "final_df"
      ]
    }
  ],
  "metadata": {
    "colab": {
      "provenance": [],
      "include_colab_link": true
    },
    "kernelspec": {
      "display_name": "Python 3",
      "name": "python3"
    },
    "language_info": {
      "name": "python"
    },
    "accelerator": "TPU"
  },
  "nbformat": 4,
  "nbformat_minor": 0
}